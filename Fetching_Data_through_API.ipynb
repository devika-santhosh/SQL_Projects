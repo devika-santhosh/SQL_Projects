{
 "cells": [
  {
   "cell_type": "markdown",
   "id": "d0a1f22b",
   "metadata": {},
   "source": [
    "## What is API?\n",
    "\n",
    "API is the acronym for Application Programming Interface, which is a software intermediary that allows two applications to talk to each other. Each time you use an app like Facebook, send an instant message or check the weather on your phone, you’re using an API.\n",
    "\n",
    "The platform data.gov.in provides us with the summarised yearly Air Pollution Data for different cities, but if you want detailed data, they have provided an API for the same, which collects data across 1240(approx) stations in India on an hourly basis which can be fetched through the API.\n",
    "\n",
    "Here I will be fetching Air Pollution Data through the API provided by the Indian government on data.gov.in"
   ]
  },
  {
   "cell_type": "code",
   "execution_count": 2,
   "id": "47dd4dcd",
   "metadata": {},
   "outputs": [],
   "source": [
    "#Import all required packages\n",
    "import requests\n",
    "import pandas as pd\n",
    "import io"
   ]
  },
  {
   "cell_type": "markdown",
   "id": "0bf14b74",
   "metadata": {},
   "source": [
    "Will explain the use of this package in the coming codes."
   ]
  },
  {
   "cell_type": "code",
   "execution_count": 9,
   "id": "d1718285",
   "metadata": {
    "scrolled": true
   },
   "outputs": [],
   "source": [
    "url = \"https://api.data.gov.in/resource/3b01bcb8-0b14-4abf-b6f2-c1bfd384ba69?api-key=579b464db66ec23bdd000001cdd3946e44ce4aad7209ff7b23ac571b&format=csv&offset=0&limit=2000\"\n",
    "\n",
    "urlData = requests.get(url).content"
   ]
  },
  {
   "cell_type": "markdown",
   "id": "234132e7",
   "metadata": {},
   "source": [
    "We create a new variable “urlData”, where we fetch the data from the API using the get() from the Requests Python package.\n",
    "You get an option to choose the format of the data in which you want the data. There are 3 options to choose from:\n",
    "1. XML\n",
    "2. JSON\n",
    "3. CSV\n",
    "\n",
    "You get this option when you create the API link on data.gov.in. You also get an option to choose the limit to the data which is fetched when you call the API, which in my case has been set to 2000 (since there are approx. 1240 stations around India from where we get the data, so basically on every call we request 1240 rows of data).\n",
    "If we run this code, here is the output:"
   ]
  },
  {
   "cell_type": "markdown",
   "id": "bf2d98e6",
   "metadata": {},
   "source": [
    "As you can see in the output we only get <Response [200]>, which basically means the request has succeeded and the API has fetched the data. But in order to see the content that we have fetched we will use .content with urlData, here is the output for the same.\n",
    "\n",
    "The output continues… till it prints 1240 rows of data that we have fetched. Now obviously we want this to be parsed in a more readable format, so here we will use the Python Pandas package to convert this CSV to a data frame."
   ]
  },
  {
   "cell_type": "code",
   "execution_count": 10,
   "id": "779b6b59",
   "metadata": {},
   "outputs": [
    {
     "data": {
      "text/html": [
       "<div>\n",
       "<style scoped>\n",
       "    .dataframe tbody tr th:only-of-type {\n",
       "        vertical-align: middle;\n",
       "    }\n",
       "\n",
       "    .dataframe tbody tr th {\n",
       "        vertical-align: top;\n",
       "    }\n",
       "\n",
       "    .dataframe thead th {\n",
       "        text-align: right;\n",
       "    }\n",
       "</style>\n",
       "<table border=\"1\" class=\"dataframe\">\n",
       "  <thead>\n",
       "    <tr style=\"text-align: right;\">\n",
       "      <th></th>\n",
       "      <th>country</th>\n",
       "      <th>state</th>\n",
       "      <th>city</th>\n",
       "      <th>station</th>\n",
       "      <th>last_update</th>\n",
       "      <th>latitude</th>\n",
       "      <th>longitude</th>\n",
       "      <th>pollutant_id</th>\n",
       "      <th>pollutant_min</th>\n",
       "      <th>pollutant_max</th>\n",
       "      <th>pollutant_avg</th>\n",
       "    </tr>\n",
       "  </thead>\n",
       "  <tbody>\n",
       "    <tr>\n",
       "      <th>0</th>\n",
       "      <td>India</td>\n",
       "      <td>Andhra_Pradesh</td>\n",
       "      <td>Amaravati</td>\n",
       "      <td>Secretariat, Amaravati - APPCB</td>\n",
       "      <td>23-04-2024 13:00:00</td>\n",
       "      <td>16.515083</td>\n",
       "      <td>80.518167</td>\n",
       "      <td>OZONE</td>\n",
       "      <td>1.0</td>\n",
       "      <td>39.0</td>\n",
       "      <td>15.0</td>\n",
       "    </tr>\n",
       "    <tr>\n",
       "      <th>1</th>\n",
       "      <td>India</td>\n",
       "      <td>Andhra_Pradesh</td>\n",
       "      <td>Anantapur</td>\n",
       "      <td>Gulzarpet, Anantapur - APPCB</td>\n",
       "      <td>23-04-2024 13:00:00</td>\n",
       "      <td>14.675886</td>\n",
       "      <td>77.593027</td>\n",
       "      <td>PM2.5</td>\n",
       "      <td>NaN</td>\n",
       "      <td>NaN</td>\n",
       "      <td>NaN</td>\n",
       "    </tr>\n",
       "    <tr>\n",
       "      <th>2</th>\n",
       "      <td>India</td>\n",
       "      <td>Andhra_Pradesh</td>\n",
       "      <td>Anantapur</td>\n",
       "      <td>Gulzarpet, Anantapur - APPCB</td>\n",
       "      <td>23-04-2024 13:00:00</td>\n",
       "      <td>14.675886</td>\n",
       "      <td>77.593027</td>\n",
       "      <td>PM10</td>\n",
       "      <td>NaN</td>\n",
       "      <td>NaN</td>\n",
       "      <td>NaN</td>\n",
       "    </tr>\n",
       "    <tr>\n",
       "      <th>3</th>\n",
       "      <td>India</td>\n",
       "      <td>Andhra_Pradesh</td>\n",
       "      <td>Chittoor</td>\n",
       "      <td>Gangineni Cheruvu, Chittoor - APPCB</td>\n",
       "      <td>23-04-2024 13:00:00</td>\n",
       "      <td>13.204880</td>\n",
       "      <td>79.097889</td>\n",
       "      <td>PM2.5</td>\n",
       "      <td>NaN</td>\n",
       "      <td>NaN</td>\n",
       "      <td>NaN</td>\n",
       "    </tr>\n",
       "    <tr>\n",
       "      <th>4</th>\n",
       "      <td>India</td>\n",
       "      <td>Andhra_Pradesh</td>\n",
       "      <td>Chittoor</td>\n",
       "      <td>Gangineni Cheruvu, Chittoor - APPCB</td>\n",
       "      <td>23-04-2024 13:00:00</td>\n",
       "      <td>13.204880</td>\n",
       "      <td>79.097889</td>\n",
       "      <td>NH3</td>\n",
       "      <td>NaN</td>\n",
       "      <td>NaN</td>\n",
       "      <td>NaN</td>\n",
       "    </tr>\n",
       "  </tbody>\n",
       "</table>\n",
       "</div>"
      ],
      "text/plain": [
       "  country           state       city                              station  \\\n",
       "0   India  Andhra_Pradesh  Amaravati       Secretariat, Amaravati - APPCB   \n",
       "1   India  Andhra_Pradesh  Anantapur         Gulzarpet, Anantapur - APPCB   \n",
       "2   India  Andhra_Pradesh  Anantapur         Gulzarpet, Anantapur - APPCB   \n",
       "3   India  Andhra_Pradesh   Chittoor  Gangineni Cheruvu, Chittoor - APPCB   \n",
       "4   India  Andhra_Pradesh   Chittoor  Gangineni Cheruvu, Chittoor - APPCB   \n",
       "\n",
       "           last_update   latitude  longitude pollutant_id  pollutant_min  \\\n",
       "0  23-04-2024 13:00:00  16.515083  80.518167        OZONE            1.0   \n",
       "1  23-04-2024 13:00:00  14.675886  77.593027        PM2.5            NaN   \n",
       "2  23-04-2024 13:00:00  14.675886  77.593027         PM10            NaN   \n",
       "3  23-04-2024 13:00:00  13.204880  79.097889        PM2.5            NaN   \n",
       "4  23-04-2024 13:00:00  13.204880  79.097889          NH3            NaN   \n",
       "\n",
       "   pollutant_max  pollutant_avg  \n",
       "0           39.0           15.0  \n",
       "1            NaN            NaN  \n",
       "2            NaN            NaN  \n",
       "3            NaN            NaN  \n",
       "4            NaN            NaN  "
      ]
     },
     "execution_count": 10,
     "metadata": {},
     "output_type": "execute_result"
    }
   ],
   "source": [
    "#Converting the data to pandas dataframe.\n",
    "rawData = pd.read_csv(io.StringIO(urlData.decode('utf-8')))\n",
    "rawData.head()"
   ]
  }
 ],
 "metadata": {
  "kernelspec": {
   "display_name": "Python 3 (ipykernel)",
   "language": "python",
   "name": "python3"
  },
  "language_info": {
   "codemirror_mode": {
    "name": "ipython",
    "version": 3
   },
   "file_extension": ".py",
   "mimetype": "text/x-python",
   "name": "python",
   "nbconvert_exporter": "python",
   "pygments_lexer": "ipython3",
   "version": "3.11.5"
  }
 },
 "nbformat": 4,
 "nbformat_minor": 5
}
